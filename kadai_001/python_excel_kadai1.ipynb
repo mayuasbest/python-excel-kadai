{
  "nbformat": 4,
  "nbformat_minor": 0,
  "metadata": {
    "colab": {
      "provenance": []
    },
    "kernelspec": {
      "name": "python3",
      "display_name": "Python 3"
    },
    "language_info": {
      "name": "python"
    }
  },
  "cells": [
    {
      "cell_type": "code",
      "execution_count": null,
      "metadata": {
        "id": "lXKPjsAYYg-o"
      },
      "outputs": [],
      "source": [
        "wb = Workbook()\n",
        "ws = wb.active\n",
        "\n",
        "ws['B2'] = \"請求書\"\n",
        "\n",
        "ws['B4'] = \"株式会社ABC\"\n",
        "ws['B5'] = \"〒101-0022東京都千代田区神田練塀町300\"\n",
        "ws['B6'] = \"TEL:03-1234-5678 FAX:03-1234-5678\"\n",
        "ws['B7'] = \"担当者名:鈴木一郎 様\"\n",
        "\n",
        "ws['F4'] = \"№\"\n",
        "ws['G4'] = \"0001\"\n",
        "ws['F5'] = \"日付\"\n",
        "\n",
        "\n",
        "current_date = datetime.now()\n",
        "ws[\"G5\"] = current_date\n",
        "\n",
        "\n",
        "ws[\"G5\"].number_format = \"yyyy/mm/dd\"\n",
        "\n",
        "header = ['商品名', '数量', '単価', '金額']\n",
        "ws.append(header)\n",
        "\n",
        "data = [\n",
        "    ['商品Ａ', 2, 10000, 20000],\n",
        "    ['商品Ｂ', 1, 15000, 15000],\n",
        "]\n",
        "\n",
        "for col_num, column_title in enumerate(header, start=2):\n",
        "    ws.cell(row=10, column=col_num, value=column_title)\n",
        "\n",
        "\n",
        "for row_num, row_data in enumerate(data, start=11):\n",
        "    for col_num, cell_value in enumerate(row_data, start=2):\n",
        "        ws.cell(row=row_num, column=col_num, value=cell_value)\n",
        "\n",
        "\n",
        "ws[\"E13\"] = \"=E11+E12\"\n",
        "\n",
        "ws['B15'] = \"小計\"\n",
        "ws['B16'] = \"消費税\"\n",
        "ws['B17'] = \"合計\"\n",
        "\n",
        "\n",
        "ws['E15'] = \"=E13\"\n",
        "ws['E16'] = \"=E15*0.1\"\n",
        "ws['E17'] = \"=E15+E16\"\n",
        "\n",
        "\n",
        "today = datetime.now()\n",
        "date_str = today.strftime(\"%Y%m%d\")\n",
        "file_name = f\"請求書_{date_str}.xlsx\"\n",
        "\n",
        "\n",
        "wb.save(file_name)"
      ]
    }
  ]
}