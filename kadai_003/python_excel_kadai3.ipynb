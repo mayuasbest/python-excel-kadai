{
  "nbformat": 4,
  "nbformat_minor": 0,
  "metadata": {
    "colab": {
      "provenance": []
    },
    "kernelspec": {
      "name": "python3",
      "display_name": "Python 3"
    },
    "language_info": {
      "name": "python"
    }
  },
  "cells": [
    {
      "cell_type": "code",
      "execution_count": null,
      "metadata": {
        "id": "wwnPmyDamoLw"
      },
      "outputs": [],
      "source": [
        "#2022_年間売上表.xlsxを作成する\n",
        "import openpyxl\n",
        "from openpyxl.styles import Border,Side\n",
        "\n",
        "workbook = openpyxl.Workbook()\n",
        "sheet = workbook.active\n",
        "\n",
        "header = [\"売上年\",\"商品\",\"金額（千円）\"]\n",
        "sheet.append(header)\n",
        "\n",
        "data = [\n",
        "    [2022,\"紅茶\",1200],\n",
        "    [2022,\"ハチミツ\",1000],\n",
        "    [2022,\"セッケン\",1300],\n",
        "    [2022,\"紅茶\",800],\n",
        "    [2022,\"アロマキャンドル\",900],\n",
        "    [2022,\"ハチミツ\",300],\n",
        "    [2022,\"ハチミツ\",560],\n",
        "    [2022,\"ワイングラス\",850],\n",
        "    [2022,\"アロマキャンドル\",810],\n",
        "    [2022,\"包丁\",940],\n",
        "    [2022,\"水筒\",1150],\n",
        "]\n",
        "\n",
        "for row in data:\n",
        "    sheet.append(row)\n",
        "\n",
        "thin_border = Border(left=Side(style='thin'),right=Side(style='thin'),top=Side(style='thin'),bottom=Side(style='thin'))\n",
        "for row in sheet['A1:C12']:\n",
        "    for cell in row:\n",
        "        cell.border = thin_border\n",
        "\n",
        "workbook.save(\"2022_年間売上表.xlsx\")\n"
      ]
    },
    {
      "cell_type": "code",
      "source": [
        "#2023_年間売上表.xlsxを作成する\n",
        "import openpyxl\n",
        "from openpyxl.styles import Border,Side\n",
        "\n",
        "workbook = openpyxl.Workbook()\n",
        "sheet = workbook.active\n",
        "\n",
        "header = [\"売上年\",\"商品\",\"金額（千円）\"]\n",
        "sheet.append(header)\n",
        "\n",
        "data = [\n",
        "    [2023,\"紅茶\",1200],\n",
        "    [2023,\"ハチミツ\",1000],\n",
        "    [2023,\"水筒\",250],\n",
        "    [2023,\"コーヒー豆\",860],\n",
        "    [2023,\"セッケン\",1300],\n",
        "    [2023,\"紅茶\",670],\n",
        "    [2023,\"アロマキャンドル\",900],\n",
        "    [2023,\"ワイングラス\",850],\n",
        "    [2023,\"包丁\",940],\n",
        "    [2023,\"フライパン\",670],\n",
        "    [2023,\"水筒\",1150],\n",
        "]\n",
        "\n",
        "for row in data:\n",
        "    sheet.append(row)\n",
        "\n",
        "thin_border = Border(left=Side(style='thin'),right=Side(style='thin'),top=Side(style='thin'),bottom=Side(style='thin'))\n",
        "for row in sheet['A1:C12']:\n",
        "    for cell in row:\n",
        "        cell.border = thin_border\n",
        "\n",
        "workbook.save(\"2023_年間売上表.xlsx\")\n"
      ],
      "metadata": {
        "id": "VXJBnqberDH0"
      },
      "execution_count": null,
      "outputs": []
    },
    {
      "cell_type": "code",
      "source": [
        "#2022_年間売上表.xlsxと、2023_年間売上表.xlsxを連結する\n",
        "\n",
        "import pandas as pd\n",
        "\n",
        "df_2022 = pd.read_excel(\"2022_年間売上表.xlsx\")\n",
        "df_2023 = pd.read_excel(\"2023_年間売上表.xlsx\")\n",
        "\n",
        "merged_df = pd.concat([df_2022,df_2023])\n",
        "\n",
        "grouped_df = merged_df.groupby([\"商品\",\"売上年\"]).sum()\n",
        "\n",
        "grouped_df.to_excel(\"売上集計表.xlsx\")\n",
        "\n",
        "\n"
      ],
      "metadata": {
        "id": "PqbZMUr0zrpH"
      },
      "execution_count": 19,
      "outputs": []
    },
    {
      "cell_type": "code",
      "source": [
        "import openpyxl\n",
        "from openpyxl.styles import PatternFill\n",
        "\n",
        "workbook = openpyxl.load_workbook(\"売上集計表.xlsx\")\n",
        "sheet = workbook.active\n",
        "\n",
        "for row in sheet.iter_rows(min_row=1, max_row=1, min_col=1, max_col=3):\n",
        "    for cell in row:\n",
        "        cell.fill = PatternFill(patternType='solid', fgColor='FFF2F2F2')\n",
        "\n",
        "workbook.save(\"売上集計表.xlsx\")\n",
        "\n",
        "\n",
        "\n"
      ],
      "metadata": {
        "id": "P7OIPwuP0olz"
      },
      "execution_count": 20,
      "outputs": []
    },
    {
      "cell_type": "code",
      "source": [],
      "metadata": {
        "id": "K2uWvfBtQlfU"
      },
      "execution_count": null,
      "outputs": []
    }
  ]
}